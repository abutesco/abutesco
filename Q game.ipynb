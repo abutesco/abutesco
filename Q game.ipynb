{
 "cells": [
  {
   "cell_type": "code",
   "execution_count": null,
   "id": "0aa306f8-9db6-4a53-8dd8-5dde23ff029b",
   "metadata": {},
   "outputs": [
    {
     "name": "stdout",
     "output_type": "stream",
     "text": [
      "Hello and welcome\n"
     ]
    },
    {
     "name": "stdin",
     "output_type": "stream",
     "text": [
      "Would you like to proceed?  mno\n",
      "What is your name?  juh\n"
     ]
    },
    {
     "name": "stdout",
     "output_type": "stream",
     "text": [
      "loser :)\n",
      "Imagine quitting before trying booooooooooo juh\n"
     ]
    }
   ],
   "source": [
    "print('Hello and welcome')\n",
    "\n",
    "play = input('Would you like to proceed? ')\n",
    "name = input(\"What is your name? \")\n",
    "\n",
    "if play.lower() != \"yes\":\n",
    "    print(\"loser :)\")\n",
    "    print('Imagine quitting before trying booooooooooo ' + name )\n",
    "    quit()\n",
    "    \n",
    "else:\n",
    "    #word = \"WELCOME TO THE GAME ;0\"\n",
    "#x = \"\"\n",
    "#for i in word:\n",
    "    #x += i\n",
    "    #print(x)\n",
    "    \n",
    "    print(\"Okay! i see you are up for the challenge\")\n",
    "    print('Let`s play ;)')\n",
    "    score = 0\n",
    "    \n",
    "    \n",
    "    \n",
    "Q1 = input(\"I speak without a mouth and hear without ears. I have no body, but I come alive with wind. What am I? \")\n",
    "if Q1.lower() == \"an echo\":\n",
    "   # word = \"Good\"\n",
    "# x = \"\"\n",
    "# for i in word:\n",
    "  #  x += i\n",
    "  #  print(x)\n",
    "    \n",
    "    print(\"correct!\")\n",
    "    print('smart guy huh? :~')\n",
    "    score += 1\n",
    "else:\n",
    "    print(\"hahahaha loser\")\n",
    "    print('don`t give up tho')\n",
    "    print(\"try again\")\n",
    "    \n",
    "\n",
    "Q2 = input(\"You measure my life in hours and I serve you by expiring. I’m quick when I’m thin and slow when I’m fat. The wind is my enemy. What am I? \")\n",
    "if Q2.lower() == \"a candle\":\n",
    "   # word = \"Good\"\n",
    "# x = \"\"\n",
    "# for i in word:\n",
    "  #  x += i\n",
    "  #  print(x)\n",
    "    \n",
    "    print(\"correct!\")\n",
    "    print('keep it going :~')\n",
    "    score += 1\n",
    "else:\n",
    "    print(\"cmon loser\")\n",
    "    print('don`t give up tho')\n",
    "    print(\"try again\")\n",
    "    \n",
    "    \n",
    "Q3 = input(\"I have cities, but no houses. I have mountains, but no trees. I have water, but no fish. What am I? \")\n",
    "if Q3.lower() == \"a map\":\n",
    "   # word = \"Good\"\n",
    "# x = \"\"\n",
    "# for i in word:\n",
    "  #  x += i\n",
    "  #  print(x)\n",
    "    \n",
    "    print(\"correct!\")\n",
    "    print('another one :o')\n",
    "    score += 1\n",
    "else:\n",
    "    print('don`t give up now')\n",
    "    print(\"try again\")\n",
    "\n",
    "    \n",
    "Q4 = input(\"What is seen in the middle of March and April that can’t be seen at the beginning or end of either month? What am I? \")\n",
    "if Q4.upper() == \"R\":\n",
    "   # word = \"Good\"\n",
    "# x = \"\"\n",
    "# for i in word:\n",
    "  #  x += i\n",
    "  #  print(x)\n",
    "    \n",
    "    print(\"correct!\")\n",
    "    print('DJ Khaled voice: another one :o, MR. ' + name)\n",
    "    \n",
    "    score += 1\n",
    "else:\n",
    "    print('you made it this far')\n",
    "    print('don`t give up now' + name )\n",
    "    print(\"try again\")\n",
    "    \n",
    "print('You got ' + str(score) + \" questions correct!\")\n",
    "print(\"You got \" + str((score / 4)* 100) + '%.')\n",
    "\n",
    "print(\"Thank you for playing Mr.\" + name + \"don`t come back next time hahaha\" )"
   ]
  },
  {
   "cell_type": "markdown",
   "id": "b9d16c6c-b018-4f57-b5d8-9acf0e8e8399",
   "metadata": {},
   "source": []
  },
  {
   "cell_type": "code",
   "execution_count": 1,
   "id": "f1c06bbc-1746-4f5c-a370-d4450a781ca7",
   "metadata": {},
   "outputs": [
    {
     "name": "stdout",
     "output_type": "stream",
     "text": [
      "fifb\n"
     ]
    }
   ],
   "source": []
  },
  {
   "cell_type": "code",
   "execution_count": null,
   "id": "3d24a61e-5637-4d47-b458-417d8438349f",
   "metadata": {},
   "outputs": [],
   "source": []
  }
 ],
 "metadata": {
  "kernelspec": {
   "display_name": "Python 3 (ipykernel)",
   "language": "python",
   "name": "python3"
  },
  "language_info": {
   "codemirror_mode": {
    "name": "ipython",
    "version": 3
   },
   "file_extension": ".py",
   "mimetype": "text/x-python",
   "name": "python",
   "nbconvert_exporter": "python",
   "pygments_lexer": "ipython3",
   "version": "3.8.13"
  }
 },
 "nbformat": 4,
 "nbformat_minor": 5
}
